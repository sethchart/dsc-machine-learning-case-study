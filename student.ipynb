{
 "cells": [
  {
   "cell_type": "markdown",
   "metadata": {},
   "source": [
    "# Scenario\n",
    "* You are tasked with investigating customer churn\n",
    "    * churn: when a customer quits a service.  High churn rate = bad for business.\n",
    "* in the `data/` folder is a the dataset you will be working on. \n",
    "\n",
    "\n",
    "# Complete the following\n",
    "* Find features that are high indicators of churn and build visualizations\n",
    "* Build a model to predict churn. You can build any model you want including\n",
    "    * Logistic Regression \n",
    "    * KNN\n",
    "    * Bayesian Classifiers\n",
    "* Choose an evaluation metric for your model\n",
    "    * Accuracy vs Precision vs Recall vs F1\n",
    "* Explain why you chose that Metric\n",
    "* Apply a GridsearchCV to find the best hyper parameters for your model\n",
    "* After you build your final model you must have\n",
    "    * A confusion matrix supporting your model\n",
    "    * Final Metric Score\n",
    "* Make sure you have a validation set for your data\n",
    "\n",
    "\n",
    "# Can you\n",
    "* Work in groups? Yes\n",
    "* Ask cohort-mates for help/advice? Yes\n",
    "* Check what you did with a cohort-mate? Yes\n",
    "* Ask me for advice? Yes\n",
    "\n",
    "This is an opportunity to practice some ML before the Phase 3 project. \n",
    "\n",
    "\n",
    "## things to remember\n",
    "* A data scientist is good at finding key insights to problems not just building models\n",
    "* validate your model with a confusion matrix and have a validation set"
   ]
  },
  {
   "cell_type": "code",
   "execution_count": null,
   "metadata": {},
   "outputs": [],
   "source": []
  }
 ],
 "metadata": {
  "kernelspec": {
   "display_name": "flatiron",
   "language": "python",
   "name": "flatiron"
  },
  "language_info": {
   "codemirror_mode": {
    "name": "ipython",
    "version": 3
   },
   "file_extension": ".py",
   "mimetype": "text/x-python",
   "name": "python",
   "nbconvert_exporter": "python",
   "pygments_lexer": "ipython3",
   "version": "3.6.9"
  }
 },
 "nbformat": 4,
 "nbformat_minor": 4
}
